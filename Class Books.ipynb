{
 "cells": [
  {
   "cell_type": "code",
   "execution_count": 15,
   "metadata": {},
   "outputs": [],
   "source": [
    "class Book:\n",
    "    def __init__(self, isbn, title, author, publisher, pages, price, copies):\n",
    "        self.isbn = isbn\n",
    "        self.title = title\n",
    "        self.author = author\n",
    "        self.publisher = publisher\n",
    "        self.pages = pages\n",
    "        self._price = price\n",
    "        self.copies = copies\n",
    "\n",
    "    @property\n",
    "    def value(self):\n",
    "        return self._price\n",
    "    \n",
    "    @value.setter\n",
    "    def price(self, val):\n",
    "        if val > 1000:\n",
    "            print(\"The price can't be higher than 1000\")\n",
    "        elif val < 50:\n",
    "            print(\"The price can't be less than 50\")\n",
    "        else:\n",
    "            self._price = val\n",
    "\n",
    "    def display(self):\n",
    "        print(self.isbn, ' ', self.title, ' ', self._price, ' ', self.copies)\n",
    "\n",
    "    def in_stock(self):\n",
    "        if self.copies > 0:\n",
    "            return True\n",
    "        else:\n",
    "            return False\n",
    "\n",
    "    def sell(self):\n",
    "        if self.in_stock() == True:\n",
    "            self.copies -= 1\n",
    "        else:\n",
    "            print(\"Sorry the book is out of stock\")\n",
    "\n",
    "\n",
    "book1 = Book('957-4-36-547417-1', 'Learn Physics','Stephen', 'CBC', 350, 200,10)\n",
    "book2 = Book('652-6-86-748413-3', 'Learn Chemistry','Jack', 'CBC', 400, 220,20)\n",
    "book3 = Book('957-7-39-347216-2', 'Learn Maths','John', 'XYZ', 500, 300,21)\n",
    "book4 = Book('957-7-39-347216-2', 'Learn Biology','Jack', 'XYZ', 400, 200,10)\n",
    " \n"
   ]
  },
  {
   "cell_type": "code",
   "execution_count": 16,
   "metadata": {},
   "outputs": [
    {
     "name": "stdout",
     "output_type": "stream",
     "text": [
      "957-4-36-547417-1   Learn Physics   200   10\n",
      "652-6-86-748413-3   Learn Chemistry   220   20\n",
      "957-7-39-347216-2   Learn Maths   300   21\n",
      "957-7-39-347216-2   Learn Biology   200   10\n",
      "The price can't be higher than 1000\n",
      "The price can't be less than 50\n",
      "\n",
      "\n"
     ]
    }
   ],
   "source": [
    "#book3.sell()\n",
    "#book4.sell()\n",
    "\n",
    "#booksbyjack = [book.title for book in mybooks if book.author == 'Jack']\n",
    "#print(booksbyjack)\n",
    "\n",
    "mybooks = [book1, book2, book3, book4]\n",
    "for book in mybooks:\n",
    "    book.display()\n",
    "\n",
    "book1.price = 2000\n",
    "book2.price = 10\n",
    "book3.price = 999\n",
    "print(\"\\n\")"
   ]
  },
  {
   "cell_type": "code",
   "execution_count": 13,
   "metadata": {},
   "outputs": [
    {
     "name": "stdout",
     "output_type": "stream",
     "text": [
      "957-4-36-547417-1   Learn Physics   200   10\n",
      "652-6-86-748413-3   Learn Chemistry   220   20\n",
      "957-7-39-347216-2   Learn Maths   999   21\n",
      "957-7-39-347216-2   Learn Biology   200   10\n"
     ]
    }
   ],
   "source": [
    "\n",
    "mybooks = [book1, book2, book3, book4]\n",
    "for book in mybooks:\n",
    "    book.display()"
   ]
  },
  {
   "cell_type": "code",
   "execution_count": 17,
   "metadata": {},
   "outputs": [
    {
     "name": "stdout",
     "output_type": "stream",
     "text": [
      "957-4-36-547417-1   Learn Physics   500   10\n"
     ]
    }
   ],
   "source": [
    "book1.price = 500\n",
    "#book1._price = 510\n",
    "book1.display()"
   ]
  }
 ],
 "metadata": {
  "kernelspec": {
   "display_name": "Python 3",
   "language": "python",
   "name": "python3"
  },
  "language_info": {
   "codemirror_mode": {
    "name": "ipython",
    "version": 3
   },
   "file_extension": ".py",
   "mimetype": "text/x-python",
   "name": "python",
   "nbconvert_exporter": "python",
   "pygments_lexer": "ipython3",
   "version": "3.8.2"
  }
 },
 "nbformat": 4,
 "nbformat_minor": 4
}
